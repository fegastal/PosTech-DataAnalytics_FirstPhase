{
  "nbformat": 4,
  "nbformat_minor": 0,
  "metadata": {
    "colab": {
      "provenance": [],
      "authorship_tag": "ABX9TyNayONFkCHiPU6TgqZwGmZm",
      "include_colab_link": true
    },
    "kernelspec": {
      "name": "python3",
      "display_name": "Python 3"
    },
    "language_info": {
      "name": "python"
    }
  },
  "cells": [
    {
      "cell_type": "markdown",
      "metadata": {
        "id": "view-in-github",
        "colab_type": "text"
      },
      "source": [
        "<a href=\"https://colab.research.google.com/github/fegastal/PosTech-DataAnalytics_FirstPhase/blob/main/Produ%C3%A7%C3%A3o_Hospitalar.ipynb\" target=\"_parent\"><img src=\"https://colab.research.google.com/assets/colab-badge.svg\" alt=\"Open In Colab\"/></a>"
      ]
    },
    {
      "cell_type": "markdown",
      "source": [
        "# Analisando dados de Produção Hospitalar"
      ],
      "metadata": {
        "id": "zaxQEstfNSZ_"
      }
    },
    {
      "cell_type": "code",
      "execution_count": 1,
      "metadata": {
        "id": "7yxaSs4VLJaF"
      },
      "outputs": [],
      "source": [
        "nome = \"Guilherme\""
      ]
    },
    {
      "cell_type": "code",
      "source": [
        "print(nome)"
      ],
      "metadata": {
        "colab": {
          "base_uri": "https://localhost:8080/"
        },
        "id": "ysZ8-weYNGd7",
        "outputId": "bc6d93a8-2885-4525-8bb4-cdd8b59aeac7"
      },
      "execution_count": 2,
      "outputs": [
        {
          "output_type": "stream",
          "name": "stdout",
          "text": [
            "Guilherme\n"
          ]
        }
      ]
    },
    {
      "cell_type": "code",
      "source": [
        "nome"
      ],
      "metadata": {
        "colab": {
          "base_uri": "https://localhost:8080/",
          "height": 36
        },
        "id": "_LxjmktnNIp0",
        "outputId": "d329bc9a-9b84-490d-9af3-f18740572bf6"
      },
      "execution_count": 3,
      "outputs": [
        {
          "output_type": "execute_result",
          "data": {
            "text/plain": [
              "'Guilherme'"
            ],
            "application/vnd.google.colaboratory.intrinsic+json": {
              "type": "string"
            }
          },
          "metadata": {},
          "execution_count": 3
        }
      ]
    },
    {
      "cell_type": "code",
      "source": [
        "import pandas as pd"
      ],
      "metadata": {
        "id": "synITZsMPgkY"
      },
      "execution_count": 4,
      "outputs": []
    },
    {
      "cell_type": "code",
      "source": [
        "dados = pd.read_csv(\"/content/A114354189_62_150_53.csv\", encoding=\"ISO-8859-1\", skiprows=3, sep=';', thousands='.', decimal=\",\")"
      ],
      "metadata": {
        "id": "g8hOOlEwPkXn"
      },
      "execution_count": 20,
      "outputs": []
    },
    {
      "cell_type": "markdown",
      "source": [
        "# dados é um dataframe do pandas"
      ],
      "metadata": {
        "id": "SaK3t7ziWkp_"
      }
    },
    {
      "cell_type": "code",
      "source": [
        "dados.head()"
      ],
      "metadata": {
        "colab": {
          "base_uri": "https://localhost:8080/",
          "height": 386
        },
        "id": "_mh_thggWcBR",
        "outputId": "c2523464-c976-4bdd-9077-4f8f13b1e861"
      },
      "execution_count": 17,
      "outputs": [
        {
          "output_type": "execute_result",
          "data": {
            "text/plain": [
              "  Unidade da Federação 1992/Mar 1992/Abr 1993/Mai 1993/Dez 1994/Jan 1994/Fev  \\\n",
              "0          11 Rondônia        -        -        -        -        -        -   \n",
              "1              12 Acre        -        -        -        -        -        -   \n",
              "2          13 Amazonas        -        -        -        -        -        -   \n",
              "3           14 Roraima        -        -        -        -        -        -   \n",
              "4              15 Pará        -        -        -        -        -        -   \n",
              "\n",
              "  1994/Mai 1994/Ago 1994/Nov  ...     2022/Ago     2022/Set     2022/Out  \\\n",
              "0        -        -        -  ...   9525352,64  10309106,47  10026702,19   \n",
              "1        -        -        -  ...   3894498,82   3529504,71   4040340,45   \n",
              "2        -        -        -  ...  21958050,33  20685834,98  20322950,82   \n",
              "3        -        -        -  ...   4618378,13   4651406,91   4406762,46   \n",
              "4        -        -        -  ...  46369977,08  45602504,20  45458406,27   \n",
              "\n",
              "      2022/Nov     2022/Dez     2023/Jan     2023/Fev     2023/Mar  \\\n",
              "0  10061542,23   9921628,37   9774962,91   6939913,08   6123142,34   \n",
              "1   4029748,15   3956231,61   3915317,49   3381011,42   3394939,31   \n",
              "2  19374330,26  18104232,38  17423962,57  15360586,92  13106969,55   \n",
              "3   4391756,17   3307092,09   3335325,99   2449009,26   2247863,29   \n",
              "4  45863296,96  44721007,44  47007462,78  37790060,33  34611486,72   \n",
              "\n",
              "      2023/Abr          Total  \n",
              "0   2809110,10  1286713357,96  \n",
              "1   1401760,07   550167804,59  \n",
              "2   4607011,87  2431109298,08  \n",
              "3    836884,29   421459020,67  \n",
              "4  14416398,87  5861270009,50  \n",
              "\n",
              "[5 rows x 312 columns]"
            ],
            "text/html": [
              "\n",
              "  <div id=\"df-49283813-b4b3-4605-b361-120bc9ea7061\">\n",
              "    <div class=\"colab-df-container\">\n",
              "      <div>\n",
              "<style scoped>\n",
              "    .dataframe tbody tr th:only-of-type {\n",
              "        vertical-align: middle;\n",
              "    }\n",
              "\n",
              "    .dataframe tbody tr th {\n",
              "        vertical-align: top;\n",
              "    }\n",
              "\n",
              "    .dataframe thead th {\n",
              "        text-align: right;\n",
              "    }\n",
              "</style>\n",
              "<table border=\"1\" class=\"dataframe\">\n",
              "  <thead>\n",
              "    <tr style=\"text-align: right;\">\n",
              "      <th></th>\n",
              "      <th>Unidade da Federação</th>\n",
              "      <th>1992/Mar</th>\n",
              "      <th>1992/Abr</th>\n",
              "      <th>1993/Mai</th>\n",
              "      <th>1993/Dez</th>\n",
              "      <th>1994/Jan</th>\n",
              "      <th>1994/Fev</th>\n",
              "      <th>1994/Mai</th>\n",
              "      <th>1994/Ago</th>\n",
              "      <th>1994/Nov</th>\n",
              "      <th>...</th>\n",
              "      <th>2022/Ago</th>\n",
              "      <th>2022/Set</th>\n",
              "      <th>2022/Out</th>\n",
              "      <th>2022/Nov</th>\n",
              "      <th>2022/Dez</th>\n",
              "      <th>2023/Jan</th>\n",
              "      <th>2023/Fev</th>\n",
              "      <th>2023/Mar</th>\n",
              "      <th>2023/Abr</th>\n",
              "      <th>Total</th>\n",
              "    </tr>\n",
              "  </thead>\n",
              "  <tbody>\n",
              "    <tr>\n",
              "      <th>0</th>\n",
              "      <td>11 Rondônia</td>\n",
              "      <td>-</td>\n",
              "      <td>-</td>\n",
              "      <td>-</td>\n",
              "      <td>-</td>\n",
              "      <td>-</td>\n",
              "      <td>-</td>\n",
              "      <td>-</td>\n",
              "      <td>-</td>\n",
              "      <td>-</td>\n",
              "      <td>...</td>\n",
              "      <td>9525352,64</td>\n",
              "      <td>10309106,47</td>\n",
              "      <td>10026702,19</td>\n",
              "      <td>10061542,23</td>\n",
              "      <td>9921628,37</td>\n",
              "      <td>9774962,91</td>\n",
              "      <td>6939913,08</td>\n",
              "      <td>6123142,34</td>\n",
              "      <td>2809110,10</td>\n",
              "      <td>1286713357,96</td>\n",
              "    </tr>\n",
              "    <tr>\n",
              "      <th>1</th>\n",
              "      <td>12 Acre</td>\n",
              "      <td>-</td>\n",
              "      <td>-</td>\n",
              "      <td>-</td>\n",
              "      <td>-</td>\n",
              "      <td>-</td>\n",
              "      <td>-</td>\n",
              "      <td>-</td>\n",
              "      <td>-</td>\n",
              "      <td>-</td>\n",
              "      <td>...</td>\n",
              "      <td>3894498,82</td>\n",
              "      <td>3529504,71</td>\n",
              "      <td>4040340,45</td>\n",
              "      <td>4029748,15</td>\n",
              "      <td>3956231,61</td>\n",
              "      <td>3915317,49</td>\n",
              "      <td>3381011,42</td>\n",
              "      <td>3394939,31</td>\n",
              "      <td>1401760,07</td>\n",
              "      <td>550167804,59</td>\n",
              "    </tr>\n",
              "    <tr>\n",
              "      <th>2</th>\n",
              "      <td>13 Amazonas</td>\n",
              "      <td>-</td>\n",
              "      <td>-</td>\n",
              "      <td>-</td>\n",
              "      <td>-</td>\n",
              "      <td>-</td>\n",
              "      <td>-</td>\n",
              "      <td>-</td>\n",
              "      <td>-</td>\n",
              "      <td>-</td>\n",
              "      <td>...</td>\n",
              "      <td>21958050,33</td>\n",
              "      <td>20685834,98</td>\n",
              "      <td>20322950,82</td>\n",
              "      <td>19374330,26</td>\n",
              "      <td>18104232,38</td>\n",
              "      <td>17423962,57</td>\n",
              "      <td>15360586,92</td>\n",
              "      <td>13106969,55</td>\n",
              "      <td>4607011,87</td>\n",
              "      <td>2431109298,08</td>\n",
              "    </tr>\n",
              "    <tr>\n",
              "      <th>3</th>\n",
              "      <td>14 Roraima</td>\n",
              "      <td>-</td>\n",
              "      <td>-</td>\n",
              "      <td>-</td>\n",
              "      <td>-</td>\n",
              "      <td>-</td>\n",
              "      <td>-</td>\n",
              "      <td>-</td>\n",
              "      <td>-</td>\n",
              "      <td>-</td>\n",
              "      <td>...</td>\n",
              "      <td>4618378,13</td>\n",
              "      <td>4651406,91</td>\n",
              "      <td>4406762,46</td>\n",
              "      <td>4391756,17</td>\n",
              "      <td>3307092,09</td>\n",
              "      <td>3335325,99</td>\n",
              "      <td>2449009,26</td>\n",
              "      <td>2247863,29</td>\n",
              "      <td>836884,29</td>\n",
              "      <td>421459020,67</td>\n",
              "    </tr>\n",
              "    <tr>\n",
              "      <th>4</th>\n",
              "      <td>15 Pará</td>\n",
              "      <td>-</td>\n",
              "      <td>-</td>\n",
              "      <td>-</td>\n",
              "      <td>-</td>\n",
              "      <td>-</td>\n",
              "      <td>-</td>\n",
              "      <td>-</td>\n",
              "      <td>-</td>\n",
              "      <td>-</td>\n",
              "      <td>...</td>\n",
              "      <td>46369977,08</td>\n",
              "      <td>45602504,20</td>\n",
              "      <td>45458406,27</td>\n",
              "      <td>45863296,96</td>\n",
              "      <td>44721007,44</td>\n",
              "      <td>47007462,78</td>\n",
              "      <td>37790060,33</td>\n",
              "      <td>34611486,72</td>\n",
              "      <td>14416398,87</td>\n",
              "      <td>5861270009,50</td>\n",
              "    </tr>\n",
              "  </tbody>\n",
              "</table>\n",
              "<p>5 rows × 312 columns</p>\n",
              "</div>\n",
              "      <button class=\"colab-df-convert\" onclick=\"convertToInteractive('df-49283813-b4b3-4605-b361-120bc9ea7061')\"\n",
              "              title=\"Convert this dataframe to an interactive table.\"\n",
              "              style=\"display:none;\">\n",
              "        \n",
              "  <svg xmlns=\"http://www.w3.org/2000/svg\" height=\"24px\"viewBox=\"0 0 24 24\"\n",
              "       width=\"24px\">\n",
              "    <path d=\"M0 0h24v24H0V0z\" fill=\"none\"/>\n",
              "    <path d=\"M18.56 5.44l.94 2.06.94-2.06 2.06-.94-2.06-.94-.94-2.06-.94 2.06-2.06.94zm-11 1L8.5 8.5l.94-2.06 2.06-.94-2.06-.94L8.5 2.5l-.94 2.06-2.06.94zm10 10l.94 2.06.94-2.06 2.06-.94-2.06-.94-.94-2.06-.94 2.06-2.06.94z\"/><path d=\"M17.41 7.96l-1.37-1.37c-.4-.4-.92-.59-1.43-.59-.52 0-1.04.2-1.43.59L10.3 9.45l-7.72 7.72c-.78.78-.78 2.05 0 2.83L4 21.41c.39.39.9.59 1.41.59.51 0 1.02-.2 1.41-.59l7.78-7.78 2.81-2.81c.8-.78.8-2.07 0-2.86zM5.41 20L4 18.59l7.72-7.72 1.47 1.35L5.41 20z\"/>\n",
              "  </svg>\n",
              "      </button>\n",
              "      \n",
              "  <style>\n",
              "    .colab-df-container {\n",
              "      display:flex;\n",
              "      flex-wrap:wrap;\n",
              "      gap: 12px;\n",
              "    }\n",
              "\n",
              "    .colab-df-convert {\n",
              "      background-color: #E8F0FE;\n",
              "      border: none;\n",
              "      border-radius: 50%;\n",
              "      cursor: pointer;\n",
              "      display: none;\n",
              "      fill: #1967D2;\n",
              "      height: 32px;\n",
              "      padding: 0 0 0 0;\n",
              "      width: 32px;\n",
              "    }\n",
              "\n",
              "    .colab-df-convert:hover {\n",
              "      background-color: #E2EBFA;\n",
              "      box-shadow: 0px 1px 2px rgba(60, 64, 67, 0.3), 0px 1px 3px 1px rgba(60, 64, 67, 0.15);\n",
              "      fill: #174EA6;\n",
              "    }\n",
              "\n",
              "    [theme=dark] .colab-df-convert {\n",
              "      background-color: #3B4455;\n",
              "      fill: #D2E3FC;\n",
              "    }\n",
              "\n",
              "    [theme=dark] .colab-df-convert:hover {\n",
              "      background-color: #434B5C;\n",
              "      box-shadow: 0px 1px 3px 1px rgba(0, 0, 0, 0.15);\n",
              "      filter: drop-shadow(0px 1px 2px rgba(0, 0, 0, 0.3));\n",
              "      fill: #FFFFFF;\n",
              "    }\n",
              "  </style>\n",
              "\n",
              "      <script>\n",
              "        const buttonEl =\n",
              "          document.querySelector('#df-49283813-b4b3-4605-b361-120bc9ea7061 button.colab-df-convert');\n",
              "        buttonEl.style.display =\n",
              "          google.colab.kernel.accessAllowed ? 'block' : 'none';\n",
              "\n",
              "        async function convertToInteractive(key) {\n",
              "          const element = document.querySelector('#df-49283813-b4b3-4605-b361-120bc9ea7061');\n",
              "          const dataTable =\n",
              "            await google.colab.kernel.invokeFunction('convertToInteractive',\n",
              "                                                     [key], {});\n",
              "          if (!dataTable) return;\n",
              "\n",
              "          const docLinkHtml = 'Like what you see? Visit the ' +\n",
              "            '<a target=\"_blank\" href=https://colab.research.google.com/notebooks/data_table.ipynb>data table notebook</a>'\n",
              "            + ' to learn more about interactive tables.';\n",
              "          element.innerHTML = '';\n",
              "          dataTable['output_type'] = 'display_data';\n",
              "          await google.colab.output.renderOutput(dataTable, element);\n",
              "          const docLink = document.createElement('div');\n",
              "          docLink.innerHTML = docLinkHtml;\n",
              "          element.appendChild(docLink);\n",
              "        }\n",
              "      </script>\n",
              "    </div>\n",
              "  </div>\n",
              "  "
            ]
          },
          "metadata": {},
          "execution_count": 17
        }
      ]
    },
    {
      "cell_type": "code",
      "source": [
        "dados.tail()"
      ],
      "metadata": {
        "colab": {
          "base_uri": "https://localhost:8080/",
          "height": 560
        },
        "id": "op-v3rQKWvlT",
        "outputId": "2bdca081-7c5b-493d-f8c4-c06c37c51c75"
      },
      "execution_count": 18,
      "outputs": [
        {
          "output_type": "execute_result",
          "data": {
            "text/plain": [
              "                                 Unidade da Federação 1992/Mar 1992/Abr  \\\n",
              "30   Dados referentes aos últimos seis meses, suje...      NaN      NaN   \n",
              "31   A partir do processamento de junho de 2012, h...      NaN      NaN   \n",
              "32        Até maio de 2012 estas informações estão...      NaN      NaN   \n",
              "33        De junho de 2012 a outubro de 2015, estã...      NaN      NaN   \n",
              "34        A partir de novembro de 2015, estão disp...      NaN      NaN   \n",
              "\n",
              "   1993/Mai 1993/Dez 1994/Jan 1994/Fev 1994/Mai 1994/Ago 1994/Nov  ...  \\\n",
              "30      NaN      NaN      NaN      NaN      NaN      NaN      NaN  ...   \n",
              "31      NaN      NaN      NaN      NaN      NaN      NaN      NaN  ...   \n",
              "32      NaN      NaN      NaN      NaN      NaN      NaN      NaN  ...   \n",
              "33      NaN      NaN      NaN      NaN      NaN      NaN      NaN  ...   \n",
              "34      NaN      NaN      NaN      NaN      NaN      NaN      NaN  ...   \n",
              "\n",
              "   2022/Ago 2022/Set 2022/Out 2022/Nov 2022/Dez 2023/Jan 2023/Fev 2023/Mar  \\\n",
              "30      NaN      NaN      NaN      NaN      NaN      NaN      NaN      NaN   \n",
              "31      NaN      NaN      NaN      NaN      NaN      NaN      NaN      NaN   \n",
              "32      NaN      NaN      NaN      NaN      NaN      NaN      NaN      NaN   \n",
              "33      NaN      NaN      NaN      NaN      NaN      NaN      NaN      NaN   \n",
              "34      NaN      NaN      NaN      NaN      NaN      NaN      NaN      NaN   \n",
              "\n",
              "   2023/Abr Total  \n",
              "30      NaN   NaN  \n",
              "31      NaN   NaN  \n",
              "32      NaN   NaN  \n",
              "33      NaN   NaN  \n",
              "34      NaN   NaN  \n",
              "\n",
              "[5 rows x 312 columns]"
            ],
            "text/html": [
              "\n",
              "  <div id=\"df-d6a96532-53dc-4bc0-9275-bb6c9594561b\">\n",
              "    <div class=\"colab-df-container\">\n",
              "      <div>\n",
              "<style scoped>\n",
              "    .dataframe tbody tr th:only-of-type {\n",
              "        vertical-align: middle;\n",
              "    }\n",
              "\n",
              "    .dataframe tbody tr th {\n",
              "        vertical-align: top;\n",
              "    }\n",
              "\n",
              "    .dataframe thead th {\n",
              "        text-align: right;\n",
              "    }\n",
              "</style>\n",
              "<table border=\"1\" class=\"dataframe\">\n",
              "  <thead>\n",
              "    <tr style=\"text-align: right;\">\n",
              "      <th></th>\n",
              "      <th>Unidade da Federação</th>\n",
              "      <th>1992/Mar</th>\n",
              "      <th>1992/Abr</th>\n",
              "      <th>1993/Mai</th>\n",
              "      <th>1993/Dez</th>\n",
              "      <th>1994/Jan</th>\n",
              "      <th>1994/Fev</th>\n",
              "      <th>1994/Mai</th>\n",
              "      <th>1994/Ago</th>\n",
              "      <th>1994/Nov</th>\n",
              "      <th>...</th>\n",
              "      <th>2022/Ago</th>\n",
              "      <th>2022/Set</th>\n",
              "      <th>2022/Out</th>\n",
              "      <th>2022/Nov</th>\n",
              "      <th>2022/Dez</th>\n",
              "      <th>2023/Jan</th>\n",
              "      <th>2023/Fev</th>\n",
              "      <th>2023/Mar</th>\n",
              "      <th>2023/Abr</th>\n",
              "      <th>Total</th>\n",
              "    </tr>\n",
              "  </thead>\n",
              "  <tbody>\n",
              "    <tr>\n",
              "      <th>30</th>\n",
              "      <td>Dados referentes aos últimos seis meses, suje...</td>\n",
              "      <td>NaN</td>\n",
              "      <td>NaN</td>\n",
              "      <td>NaN</td>\n",
              "      <td>NaN</td>\n",
              "      <td>NaN</td>\n",
              "      <td>NaN</td>\n",
              "      <td>NaN</td>\n",
              "      <td>NaN</td>\n",
              "      <td>NaN</td>\n",
              "      <td>...</td>\n",
              "      <td>NaN</td>\n",
              "      <td>NaN</td>\n",
              "      <td>NaN</td>\n",
              "      <td>NaN</td>\n",
              "      <td>NaN</td>\n",
              "      <td>NaN</td>\n",
              "      <td>NaN</td>\n",
              "      <td>NaN</td>\n",
              "      <td>NaN</td>\n",
              "      <td>NaN</td>\n",
              "    </tr>\n",
              "    <tr>\n",
              "      <th>31</th>\n",
              "      <td>A partir do processamento de junho de 2012, h...</td>\n",
              "      <td>NaN</td>\n",
              "      <td>NaN</td>\n",
              "      <td>NaN</td>\n",
              "      <td>NaN</td>\n",
              "      <td>NaN</td>\n",
              "      <td>NaN</td>\n",
              "      <td>NaN</td>\n",
              "      <td>NaN</td>\n",
              "      <td>NaN</td>\n",
              "      <td>...</td>\n",
              "      <td>NaN</td>\n",
              "      <td>NaN</td>\n",
              "      <td>NaN</td>\n",
              "      <td>NaN</td>\n",
              "      <td>NaN</td>\n",
              "      <td>NaN</td>\n",
              "      <td>NaN</td>\n",
              "      <td>NaN</td>\n",
              "      <td>NaN</td>\n",
              "      <td>NaN</td>\n",
              "    </tr>\n",
              "    <tr>\n",
              "      <th>32</th>\n",
              "      <td>Até maio de 2012 estas informações estão...</td>\n",
              "      <td>NaN</td>\n",
              "      <td>NaN</td>\n",
              "      <td>NaN</td>\n",
              "      <td>NaN</td>\n",
              "      <td>NaN</td>\n",
              "      <td>NaN</td>\n",
              "      <td>NaN</td>\n",
              "      <td>NaN</td>\n",
              "      <td>NaN</td>\n",
              "      <td>...</td>\n",
              "      <td>NaN</td>\n",
              "      <td>NaN</td>\n",
              "      <td>NaN</td>\n",
              "      <td>NaN</td>\n",
              "      <td>NaN</td>\n",
              "      <td>NaN</td>\n",
              "      <td>NaN</td>\n",
              "      <td>NaN</td>\n",
              "      <td>NaN</td>\n",
              "      <td>NaN</td>\n",
              "    </tr>\n",
              "    <tr>\n",
              "      <th>33</th>\n",
              "      <td>De junho de 2012 a outubro de 2015, estã...</td>\n",
              "      <td>NaN</td>\n",
              "      <td>NaN</td>\n",
              "      <td>NaN</td>\n",
              "      <td>NaN</td>\n",
              "      <td>NaN</td>\n",
              "      <td>NaN</td>\n",
              "      <td>NaN</td>\n",
              "      <td>NaN</td>\n",
              "      <td>NaN</td>\n",
              "      <td>...</td>\n",
              "      <td>NaN</td>\n",
              "      <td>NaN</td>\n",
              "      <td>NaN</td>\n",
              "      <td>NaN</td>\n",
              "      <td>NaN</td>\n",
              "      <td>NaN</td>\n",
              "      <td>NaN</td>\n",
              "      <td>NaN</td>\n",
              "      <td>NaN</td>\n",
              "      <td>NaN</td>\n",
              "    </tr>\n",
              "    <tr>\n",
              "      <th>34</th>\n",
              "      <td>A partir de novembro de 2015, estão disp...</td>\n",
              "      <td>NaN</td>\n",
              "      <td>NaN</td>\n",
              "      <td>NaN</td>\n",
              "      <td>NaN</td>\n",
              "      <td>NaN</td>\n",
              "      <td>NaN</td>\n",
              "      <td>NaN</td>\n",
              "      <td>NaN</td>\n",
              "      <td>NaN</td>\n",
              "      <td>...</td>\n",
              "      <td>NaN</td>\n",
              "      <td>NaN</td>\n",
              "      <td>NaN</td>\n",
              "      <td>NaN</td>\n",
              "      <td>NaN</td>\n",
              "      <td>NaN</td>\n",
              "      <td>NaN</td>\n",
              "      <td>NaN</td>\n",
              "      <td>NaN</td>\n",
              "      <td>NaN</td>\n",
              "    </tr>\n",
              "  </tbody>\n",
              "</table>\n",
              "<p>5 rows × 312 columns</p>\n",
              "</div>\n",
              "      <button class=\"colab-df-convert\" onclick=\"convertToInteractive('df-d6a96532-53dc-4bc0-9275-bb6c9594561b')\"\n",
              "              title=\"Convert this dataframe to an interactive table.\"\n",
              "              style=\"display:none;\">\n",
              "        \n",
              "  <svg xmlns=\"http://www.w3.org/2000/svg\" height=\"24px\"viewBox=\"0 0 24 24\"\n",
              "       width=\"24px\">\n",
              "    <path d=\"M0 0h24v24H0V0z\" fill=\"none\"/>\n",
              "    <path d=\"M18.56 5.44l.94 2.06.94-2.06 2.06-.94-2.06-.94-.94-2.06-.94 2.06-2.06.94zm-11 1L8.5 8.5l.94-2.06 2.06-.94-2.06-.94L8.5 2.5l-.94 2.06-2.06.94zm10 10l.94 2.06.94-2.06 2.06-.94-2.06-.94-.94-2.06-.94 2.06-2.06.94z\"/><path d=\"M17.41 7.96l-1.37-1.37c-.4-.4-.92-.59-1.43-.59-.52 0-1.04.2-1.43.59L10.3 9.45l-7.72 7.72c-.78.78-.78 2.05 0 2.83L4 21.41c.39.39.9.59 1.41.59.51 0 1.02-.2 1.41-.59l7.78-7.78 2.81-2.81c.8-.78.8-2.07 0-2.86zM5.41 20L4 18.59l7.72-7.72 1.47 1.35L5.41 20z\"/>\n",
              "  </svg>\n",
              "      </button>\n",
              "      \n",
              "  <style>\n",
              "    .colab-df-container {\n",
              "      display:flex;\n",
              "      flex-wrap:wrap;\n",
              "      gap: 12px;\n",
              "    }\n",
              "\n",
              "    .colab-df-convert {\n",
              "      background-color: #E8F0FE;\n",
              "      border: none;\n",
              "      border-radius: 50%;\n",
              "      cursor: pointer;\n",
              "      display: none;\n",
              "      fill: #1967D2;\n",
              "      height: 32px;\n",
              "      padding: 0 0 0 0;\n",
              "      width: 32px;\n",
              "    }\n",
              "\n",
              "    .colab-df-convert:hover {\n",
              "      background-color: #E2EBFA;\n",
              "      box-shadow: 0px 1px 2px rgba(60, 64, 67, 0.3), 0px 1px 3px 1px rgba(60, 64, 67, 0.15);\n",
              "      fill: #174EA6;\n",
              "    }\n",
              "\n",
              "    [theme=dark] .colab-df-convert {\n",
              "      background-color: #3B4455;\n",
              "      fill: #D2E3FC;\n",
              "    }\n",
              "\n",
              "    [theme=dark] .colab-df-convert:hover {\n",
              "      background-color: #434B5C;\n",
              "      box-shadow: 0px 1px 3px 1px rgba(0, 0, 0, 0.15);\n",
              "      filter: drop-shadow(0px 1px 2px rgba(0, 0, 0, 0.3));\n",
              "      fill: #FFFFFF;\n",
              "    }\n",
              "  </style>\n",
              "\n",
              "      <script>\n",
              "        const buttonEl =\n",
              "          document.querySelector('#df-d6a96532-53dc-4bc0-9275-bb6c9594561b button.colab-df-convert');\n",
              "        buttonEl.style.display =\n",
              "          google.colab.kernel.accessAllowed ? 'block' : 'none';\n",
              "\n",
              "        async function convertToInteractive(key) {\n",
              "          const element = document.querySelector('#df-d6a96532-53dc-4bc0-9275-bb6c9594561b');\n",
              "          const dataTable =\n",
              "            await google.colab.kernel.invokeFunction('convertToInteractive',\n",
              "                                                     [key], {});\n",
              "          if (!dataTable) return;\n",
              "\n",
              "          const docLinkHtml = 'Like what you see? Visit the ' +\n",
              "            '<a target=\"_blank\" href=https://colab.research.google.com/notebooks/data_table.ipynb>data table notebook</a>'\n",
              "            + ' to learn more about interactive tables.';\n",
              "          element.innerHTML = '';\n",
              "          dataTable['output_type'] = 'display_data';\n",
              "          await google.colab.output.renderOutput(dataTable, element);\n",
              "          const docLink = document.createElement('div');\n",
              "          docLink.innerHTML = docLinkHtml;\n",
              "          element.appendChild(docLink);\n",
              "        }\n",
              "      </script>\n",
              "    </div>\n",
              "  </div>\n",
              "  "
            ]
          },
          "metadata": {},
          "execution_count": 18
        }
      ]
    },
    {
      "cell_type": "code",
      "source": [
        "dados.mean()"
      ],
      "metadata": {
        "colab": {
          "base_uri": "https://localhost:8080/"
        },
        "id": "ShP_6YxuXCpS",
        "outputId": "b1df0680-4ebf-461b-d12e-98506f891bf5"
      },
      "execution_count": 21,
      "outputs": [
        {
          "output_type": "stream",
          "name": "stderr",
          "text": [
            "<ipython-input-21-99af3ba13e28>:1: FutureWarning: The default value of numeric_only in DataFrame.mean is deprecated. In a future version, it will default to False. In addition, specifying 'numeric_only=None' is deprecated. Select only valid columns or specify the value of numeric_only to silence this warning.\n",
            "  dados.mean()\n"
          ]
        },
        {
          "output_type": "execute_result",
          "data": {
            "text/plain": [
              "2007/Ago    5.881232e+05\n",
              "2007/Set    1.519994e+06\n",
              "2007/Out    4.706029e+06\n",
              "2007/Nov    1.064061e+07\n",
              "2007/Dez    2.379309e+07\n",
              "                ...     \n",
              "2023/Jan    1.113021e+08\n",
              "2023/Fev    9.016478e+07\n",
              "2023/Mar    8.792502e+07\n",
              "2023/Abr    4.053921e+07\n",
              "Total       1.539976e+10\n",
              "Length: 190, dtype: float64"
            ]
          },
          "metadata": {},
          "execution_count": 21
        }
      ]
    },
    {
      "cell_type": "code",
      "source": [
        "dados.info()"
      ],
      "metadata": {
        "colab": {
          "base_uri": "https://localhost:8080/"
        },
        "id": "g11L8JgEYNIA",
        "outputId": "51986040-3986-4388-c19c-32e7596e66a1"
      },
      "execution_count": 22,
      "outputs": [
        {
          "output_type": "stream",
          "name": "stdout",
          "text": [
            "<class 'pandas.core.frame.DataFrame'>\n",
            "RangeIndex: 35 entries, 0 to 34\n",
            "Columns: 312 entries, Unidade da Federação to Total\n",
            "dtypes: float64(190), object(122)\n",
            "memory usage: 85.4+ KB\n"
          ]
        }
      ]
    },
    {
      "cell_type": "code",
      "source": [
        "pd.options.display.float_format = '{:.2f}'.format"
      ],
      "metadata": {
        "id": "HefwbhN6ZGtt"
      },
      "execution_count": 24,
      "outputs": []
    },
    {
      "cell_type": "code",
      "source": [
        "dados.mean()"
      ],
      "metadata": {
        "colab": {
          "base_uri": "https://localhost:8080/"
        },
        "id": "LxDJkqRZZOGq",
        "outputId": "168524a0-ccfe-4925-e45b-dc1e87a8b99f"
      },
      "execution_count": 25,
      "outputs": [
        {
          "output_type": "stream",
          "name": "stderr",
          "text": [
            "<ipython-input-25-99af3ba13e28>:1: FutureWarning: The default value of numeric_only in DataFrame.mean is deprecated. In a future version, it will default to False. In addition, specifying 'numeric_only=None' is deprecated. Select only valid columns or specify the value of numeric_only to silence this warning.\n",
            "  dados.mean()\n"
          ]
        },
        {
          "output_type": "execute_result",
          "data": {
            "text/plain": [
              "2007/Ago        588123.21\n",
              "2007/Set       1519994.43\n",
              "2007/Out       4706028.57\n",
              "2007/Nov      10640611.38\n",
              "2007/Dez      23793093.17\n",
              "                ...      \n",
              "2023/Jan     111302102.69\n",
              "2023/Fev      90164782.52\n",
              "2023/Mar      87925024.90\n",
              "2023/Abr      40539206.93\n",
              "Total      15399758873.16\n",
              "Length: 190, dtype: float64"
            ]
          },
          "metadata": {},
          "execution_count": 25
        }
      ]
    },
    {
      "cell_type": "code",
      "source": [
        "coluna_mais_recente = dados.columns[-1]"
      ],
      "metadata": {
        "id": "VDrrXi8DjjgO"
      },
      "execution_count": 28,
      "outputs": []
    },
    {
      "cell_type": "code",
      "source": [
        "dados_recentes = dados[coluna_mais_recente]"
      ],
      "metadata": {
        "id": "kUREAssMjmc7"
      },
      "execution_count": 29,
      "outputs": []
    },
    {
      "cell_type": "code",
      "source": [
        "print(dados_recentes)"
      ],
      "metadata": {
        "colab": {
          "base_uri": "https://localhost:8080/"
        },
        "id": "XV4248FBjoLG",
        "outputId": "7d5ccc2b-8681-4629-ba92-3ceec4dbf962"
      },
      "execution_count": 30,
      "outputs": [
        {
          "output_type": "stream",
          "name": "stdout",
          "text": [
            "0      1286713357.96\n",
            "1       550167804.59\n",
            "2      2431109298.08\n",
            "3       421459020.67\n",
            "4      5861270009.50\n",
            "5       397186995.74\n",
            "6      1277421198.05\n",
            "7      4875091790.27\n",
            "8      2845138452.79\n",
            "9      8268976821.23\n",
            "10     3374722049.08\n",
            "11     3252791816.51\n",
            "12    10779456862.94\n",
            "13     2735040932.12\n",
            "14     1562303965.21\n",
            "15    12203298024.05\n",
            "16    25619967806.11\n",
            "17     4410880310.69\n",
            "18    13168898651.80\n",
            "19    50975927460.49\n",
            "20    18384286981.08\n",
            "21     9958168895.27\n",
            "22    15695778721.48\n",
            "23     2977545547.46\n",
            "24     2776984815.33\n",
            "25     6231771536.66\n",
            "26     3274265099.05\n",
            "27   215596624224.21\n",
            "28               NaN\n",
            "29               NaN\n",
            "30               NaN\n",
            "31               NaN\n",
            "32               NaN\n",
            "33               NaN\n",
            "34               NaN\n",
            "Name: Total, dtype: float64\n"
          ]
        }
      ]
    },
    {
      "cell_type": "code",
      "source": [
        "penultima_coluna = dados.iloc[:, -2]"
      ],
      "metadata": {
        "id": "siNAYEYUl2wI"
      },
      "execution_count": 31,
      "outputs": []
    },
    {
      "cell_type": "code",
      "source": [
        "print(penultima_coluna)"
      ],
      "metadata": {
        "colab": {
          "base_uri": "https://localhost:8080/"
        },
        "id": "XR98v3Adl5mK",
        "outputId": "eb8e72f4-6eb4-4c0d-8071-e22365dc5bc1"
      },
      "execution_count": 32,
      "outputs": [
        {
          "output_type": "stream",
          "name": "stdout",
          "text": [
            "0      2809110.10\n",
            "1      1401760.07\n",
            "2      4607011.87\n",
            "3       836884.29\n",
            "4     14416398.87\n",
            "5      1823184.04\n",
            "6       226111.49\n",
            "7      9437097.82\n",
            "8      9105939.36\n",
            "9     17094223.01\n",
            "10     8058974.26\n",
            "11    10457707.79\n",
            "12    34676781.98\n",
            "13     6570640.67\n",
            "14     2274803.87\n",
            "15    30716940.30\n",
            "16    66724936.31\n",
            "17    13025442.16\n",
            "18    34715797.10\n",
            "19   152311035.09\n",
            "20    53134228.39\n",
            "21    24507992.14\n",
            "22    28614776.79\n",
            "23     3464911.18\n",
            "24     6042972.96\n",
            "25    17394131.69\n",
            "26    13099103.44\n",
            "27   567548897.04\n",
            "28            NaN\n",
            "29            NaN\n",
            "30            NaN\n",
            "31            NaN\n",
            "32            NaN\n",
            "33            NaN\n",
            "34            NaN\n",
            "Name: 2023/Abr, dtype: float64\n"
          ]
        }
      ]
    }
  ]
}